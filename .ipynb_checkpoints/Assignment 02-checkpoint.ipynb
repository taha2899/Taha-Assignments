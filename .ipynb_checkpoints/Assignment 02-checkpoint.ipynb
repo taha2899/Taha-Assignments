{
 "cells": [
  {
   "cell_type": "markdown",
   "metadata": {},
   "source": [
    "# Part -2 Python Basics (Conditional Statements)"
   ]
  },
  {
   "cell_type": "markdown",
   "metadata": {},
   "source": [
    "1) A company decided to give bonus of 5% to employee if his/her year of service is more than 5 years.\n",
    "Ask user for their salary and year of service and print the net bonus amount."
   ]
  },
  {
   "cell_type": "code",
   "execution_count": 43,
   "metadata": {},
   "outputs": [
    {
     "name": "stdout",
     "output_type": "stream",
     "text": [
      "enter your salary: 50000\n",
      "enter your current service: 7\n"
     ]
    },
    {
     "name": "stdout",
     "output_type": "stream",
     "text": [
      "your bonus is: 2500.0\n"
     ]
    }
   ],
   "source": [
    "salary = int(input(\"enter your salary:\"))\n",
    "service = int(input(\"enter your current service:\"))\n",
    "if service > 5:\n",
    "    bonus = salary * 0.05\n",
    "    print(\"your bonus is:\", bonus)\n",
    "elif sevice < 5:\n",
    "    print(\"your service is not enough\")"
   ]
  },
  {
   "cell_type": "markdown",
   "metadata": {},
   "source": [
    "\n",
    "2) Write a program to check whether a person is eligible for voting or not. (accept age from user) if age is greater than 17 eligible otherwise not eligible"
   ]
  },
  {
   "cell_type": "code",
   "execution_count": 59,
   "metadata": {},
   "outputs": [
    {
     "name": "stdout",
     "output_type": "stream",
     "text": [
      "enter your age: 12\n"
     ]
    },
    {
     "name": "stdout",
     "output_type": "stream",
     "text": [
      "you are not eligible for voting\n"
     ]
    }
   ],
   "source": [
    "age = int(input(\"enter your age:\"))\n",
    "if age > 17:\n",
    "    print(\"you are eligible for voting\")\n",
    "else:\n",
    "    print(\"you are not eligible for voting\")"
   ]
  },
  {
   "cell_type": "markdown",
   "metadata": {},
   "source": [
    "\n",
    "3) Write a program to check whether a number entered by user is even or odd."
   ]
  },
  {
   "cell_type": "code",
   "execution_count": 44,
   "metadata": {},
   "outputs": [
    {
     "name": "stdout",
     "output_type": "stream",
     "text": [
      "enter a random number: 77\n"
     ]
    },
    {
     "name": "stdout",
     "output_type": "stream",
     "text": [
      "odd number\n"
     ]
    }
   ],
   "source": [
    "num = int(input(\"enter a random number:\"))\n",
    "\n",
    "if num %2 == 0:\n",
    "    print(\"even number\")\n",
    "else:\n",
    "    print(\"odd number\")"
   ]
  },
  {
   "cell_type": "markdown",
   "metadata": {},
   "source": [
    "4) Write a program to check whether a number is divisible by 7 or not.\n",
    "Show Answer"
   ]
  },
  {
   "cell_type": "code",
   "execution_count": 44,
   "metadata": {},
   "outputs": [
    {
     "name": "stdout",
     "output_type": "stream",
     "text": [
      "enter a random number: 88\n"
     ]
    },
    {
     "name": "stdout",
     "output_type": "stream",
     "text": [
      "88 Not divisible by 7\n"
     ]
    }
   ],
   "source": [
    "num = int(input(\"enter a random number:\"))\n",
    "\n",
    "if num %7 == 0:\n",
    "    print(num,\"yes divisible by 7\")\n",
    "else:\n",
    "    print(num, \"Not divisible by 7\")"
   ]
  },
  {
   "cell_type": "markdown",
   "metadata": {},
   "source": [
    "5) Write a program to display \n",
    "\"Hello\" if a number entered by user is a multiple of five , otherwise print \"Bye\"."
   ]
  },
  {
   "cell_type": "code",
   "execution_count": 69,
   "metadata": {},
   "outputs": [
    {
     "name": "stdout",
     "output_type": "stream",
     "text": [
      "enter a random number: 21\n"
     ]
    },
    {
     "name": "stdout",
     "output_type": "stream",
     "text": [
      "bye\n"
     ]
    }
   ],
   "source": [
    "num = int(input(\"enter a random number:\"))\n",
    "\n",
    "if num % 5 == 0:\n",
    "    print(\"hello\")\n",
    "else:\n",
    "    print(\"bye\")"
   ]
  },
  {
   "cell_type": "markdown",
   "metadata": {},
   "source": [
    "7) Write a program to display the last digit of a number.\n"
   ]
  },
  {
   "cell_type": "code",
   "execution_count": 76,
   "metadata": {},
   "outputs": [
    {
     "name": "stdout",
     "output_type": "stream",
     "text": [
      "enter a random number: 22\n"
     ]
    },
    {
     "name": "stdout",
     "output_type": "stream",
     "text": [
      "2\n"
     ]
    }
   ],
   "source": [
    "num = int(input(\"enter a random number:\"))\n",
    "last_digit = num % 10\n",
    "print(last_digit)"
   ]
  },
  {
   "cell_type": "markdown",
   "metadata": {},
   "source": [
    "9) Take values of length and breadth of a rectangle from user and print if it is square or rectangle."
   ]
  },
  {
   "cell_type": "code",
   "execution_count": 45,
   "metadata": {},
   "outputs": [
    {
     "name": "stdout",
     "output_type": "stream",
     "text": [
      "enter length 6\n",
      "enter breadth 7\n"
     ]
    },
    {
     "name": "stdout",
     "output_type": "stream",
     "text": [
      "rectangle\n"
     ]
    }
   ],
   "source": [
    "length =int(input(\"enter length\"))\n",
    "breadth = int(input(\"enter breadth\"))\n",
    "if length == breadth:\n",
    "    print(\"square\")\n",
    "else: \n",
    "    print(\"rectangle\")"
   ]
  },
  {
   "cell_type": "markdown",
   "metadata": {},
   "source": [
    "10) Take two int values from user and print greatest among them."
   ]
  },
  {
   "cell_type": "code",
   "execution_count": 86,
   "metadata": {},
   "outputs": [
    {
     "name": "stdout",
     "output_type": "stream",
     "text": [
      "enter 1st number: 65\n",
      "enter 2nd number: 77\n"
     ]
    },
    {
     "name": "stdout",
     "output_type": "stream",
     "text": [
      "greatest number: 77\n"
     ]
    }
   ],
   "source": [
    "num1 = int(input(\"enter 1st number:\"))\n",
    "num2 = int(input(\"enter 2nd number:\"))\n",
    "\n",
    "if num1 > num2:\n",
    "    print(\"greatest number:\", num1)\n",
    "elif num1 < num2:\n",
    "    print(\"greatest number:\", num2)\n",
    "else:\n",
    "    print(\"both numbers are equal:\", num1)"
   ]
  },
  {
   "cell_type": "markdown",
   "metadata": {},
   "source": [
    "11) A shop will give discount of 10% if the cost of purchased quantity is more than 1000.\n",
    "Ask user for quantity\n",
    "Suppose, one unit will cost 100.\n",
    "Judge and print total cost for user."
   ]
  },
  {
   "cell_type": "code",
   "execution_count": 13,
   "metadata": {},
   "outputs": [
    {
     "name": "stdout",
     "output_type": "stream",
     "text": [
      "enter quantity of bought items 1\n"
     ]
    },
    {
     "name": "stdout",
     "output_type": "stream",
     "text": [
      "Not eligible for discount\n",
      "your total cost is: 100\n"
     ]
    }
   ],
   "source": [
    "quantity = int(input(\"enter quantity of bought items\"))\n",
    "cpu = 100\n",
    "total_cost = quantity*cpu\n",
    "\n",
    "if total_cost >= 1000:\n",
    "    print(\"eligible for discount\")\n",
    "    total_cost -= total_cost * 0.1\n",
    "    print(\"your total cost is:\", total_cost)\n",
    "else:\n",
    "    print(\"Not eligible for discount\")\n",
    "    print(\"your total cost is:\", total_cost)\n",
    "    "
   ]
  },
  {
   "cell_type": "markdown",
   "metadata": {},
   "source": [
    "12) A school has following rules for grading system:\n",
    "\n",
    "a. Below 25 - F\n",
    "\n",
    "b. 25 to 45 - E\n",
    "\n",
    "c. 45 to 50 - D\n",
    "\n",
    "d. 50 to 60 - C\n",
    "\n",
    "e. 60 to 80 - B\n",
    "\n",
    "f. Above 80 - A\n",
    "\n",
    "Ask user to enter marks and print the corresponding grade."
   ]
  },
  {
   "cell_type": "code",
   "execution_count": 57,
   "metadata": {},
   "outputs": [
    {
     "name": "stdout",
     "output_type": "stream",
     "text": [
      "Enter your obtained marks: 66\n"
     ]
    },
    {
     "name": "stdout",
     "output_type": "stream",
     "text": [
      "B grade\n"
     ]
    }
   ],
   "source": [
    "marks = int(input(\"Enter your obtained marks:\"))\n",
    "\n",
    "if marks >= 80:\n",
    "    print(\"A garde\")\n",
    "elif marks >= 60:\n",
    "    print(\"B grade\")\n",
    "elif marks >= 50:\n",
    "    print(\"C grade\")\n",
    "elif marks >= 45:\n",
    "    print(\"D grade\")\n",
    "elif marks >= 25:\n",
    "    print(\"E grade\")\n",
    "elif marks < 25:\n",
    "    print(\"F grade\")"
   ]
  },
  {
   "cell_type": "markdown",
   "metadata": {},
   "source": [
    "14)A student will not be allowed to sit in exam if his/her attendence is less than 75%.\n",
    "\n",
    "Take following input from user\n",
    "\n",
    "- Number of classes held\n",
    "\n",
    "- Number of classes attended.\n",
    "\n",
    "And print\n",
    "\n",
    "- percentage of class attended\n",
    "\n",
    "- Is student is allowed to sit in exam or not.\n"
   ]
  },
  {
   "cell_type": "code",
   "execution_count": 46,
   "metadata": {},
   "outputs": [
    {
     "name": "stdout",
     "output_type": "stream",
     "text": [
      "enter number of classes held 100\n",
      "enter number of classes attended 77\n"
     ]
    },
    {
     "name": "stdout",
     "output_type": "stream",
     "text": [
      "student is allowed to enter the class\n"
     ]
    }
   ],
   "source": [
    "num1 = int(input(\"enter number of classes held\"))\n",
    "num2 = int(input(\"enter number of classes attended\"))\n",
    "percentage = num2/num1 *100\n",
    "if percentage >= 75:\n",
    "   print(\"student is allowed to enter the class\")\n",
    "else:\n",
    "   print(\"student is not allowed to enter the class\")"
   ]
  },
  {
   "cell_type": "markdown",
   "metadata": {},
   "source": [
    "15) Modify the above question to allow student to sit if he/she has medical cause. Ask user if he/she has medical cause or not ( 'Y' or 'N' ) and print accordingly."
   ]
  },
  {
   "cell_type": "code",
   "execution_count": 55,
   "metadata": {},
   "outputs": [
    {
     "name": "stdout",
     "output_type": "stream",
     "text": [
      "enter number of classes held 100\n",
      "enter number of classes attended 22\n",
      "Do you have a medical cause? (Yes OR NO):  no\n"
     ]
    },
    {
     "name": "stdout",
     "output_type": "stream",
     "text": [
      "student is not allowed to enter the class\n"
     ]
    }
   ],
   "source": [
    "num1 = int(input(\"enter number of classes held\"))\n",
    "num2 = int(input(\"enter number of classes attended\"))\n",
    "percentage = num2/num1 *100\n",
    "if percentage >= 75:\n",
    "   print(\"student is allowed to enter the class\")\n",
    "else:\n",
    "    medical = input(\"Do you have a medical cause? (Yes OR NO): \")\n",
    "    if medical == \"yes\":\n",
    "        print(\"student is allowed to enter the class because of medical issues\")\n",
    "    else:\n",
    "       print(\"student is not allowed to enter the class\")"
   ]
  },
  {
   "cell_type": "markdown",
   "metadata": {},
   "source": [
    "16) Write a program to check if a year is leap year or not.\n",
    "\n",
    "If a year is divisible by 4 then it is leap year but if the year is century year like 2000, 1900, 2100 then it must be divisible by 400."
   ]
  },
  {
   "cell_type": "code",
   "execution_count": 5,
   "metadata": {},
   "outputs": [
    {
     "name": "stdout",
     "output_type": "stream",
     "text": [
      "enter a year 2000\n"
     ]
    },
    {
     "name": "stdout",
     "output_type": "stream",
     "text": [
      "leap year\n"
     ]
    }
   ],
   "source": [
    "year = int(input(\"enter a year\"))\n",
    "\n",
    "if year % 4 == 0:\n",
    "    print(\"leap year\")\n",
    "elif year % 400 == 0:\n",
    "    print(\"leap year\")\n",
    "else:\n",
    "    print(\"not a leap year\")"
   ]
  },
  {
   "cell_type": "markdown",
   "metadata": {},
   "source": [
    "17) Ask user to enter age, gender ( M or F ), marital status ( Y or N ) and then using following rules print their place of service.\n",
    "\n",
    "if employee is female, then she will work only in urban areas.\n",
    "\n",
    "if employee is a male and age is in between 20 to 40 then he may work in anywhere\n",
    "\n",
    "if employee is male and age is in between 40 t0 60 then he will work in urban areas only.\n",
    "\n",
    "And any other input of age should print \"ERROR\""
   ]
  },
  {
   "cell_type": "code",
   "execution_count": 3,
   "metadata": {},
   "outputs": [
    {
     "name": "stdout",
     "output_type": "stream",
     "text": [
      "Enter your age: 12\n",
      " Enter your gender Male OR Female: female\n"
     ]
    },
    {
     "name": "stdout",
     "output_type": "stream",
     "text": [
      "You will work only in urban areas\n"
     ]
    }
   ],
   "source": [
    "age = int(input(\"Enter your age:\"))\n",
    "gender = input(\" Enter your gender Male OR Female:\")\n",
    "if gender == \"Female\"or gender == \"female\" or gender == \"F\" or gender == \"f\":\n",
    "      print(\"You will work only in urban areas\")\n",
    "elif gender == \"Male\" or gender == \"male\" or gender == \"M\" or gender == \"m\" and age >= 20 and age <= 40:\n",
    "      print(\"you can work anywhere\")\n",
    "elif gender == \"Male\" or gender == \"male\" or gender == \"M\" or gender == \"m\" and age > 40 and age <= 60:\n",
    "      print(\"you will work on urban areas\")\n",
    "else:\n",
    "      print(\"error\")"
   ]
  },
  {
   "cell_type": "markdown",
   "metadata": {},
   "source": [
    "6) Write a program to calculate the electricity bill (accept number of unit from user) according to the following criteria :\n",
    "     Unit                                                     Price  \n",
    "uptp 100 units                                             no charge\n",
    "Next 200 units                                              Rs 5 per unit\n",
    "After 200 units                                             Rs 10 per unit\n",
    "(For example if input unit is 350 than total bill amount is Rs.3500\n",
    "(For example if input unit is 97 than total bill amount is Rs.0\n",
    "(For example if input unit is 150 than total bill amount is Rs.750"
   ]
  },
  {
   "cell_type": "code",
   "execution_count": 22,
   "metadata": {},
   "outputs": [
    {
     "name": "stdout",
     "output_type": "stream",
     "text": [
      "enter your electricity bill unit 666\n"
     ]
    },
    {
     "name": "stdout",
     "output_type": "stream",
     "text": [
      "as per RS 10 on each unit you Bill amount is: 6660\n"
     ]
    }
   ],
   "source": [
    "unit = int(input(\"enter your electricity bill unit\"))\n",
    "if unit <= 100:\n",
    "    print(\" 0 Bill / No charge\")\n",
    "elif unit > 100 and unit <=200:\n",
    "    print(\"as per RS 5 on each unit you Bill amount is:\", unit*5)\n",
    "else: \n",
    "    print(\"as per RS 10 on each unit you Bill amount is:\", unit*10)"
   ]
  },
  {
   "cell_type": "markdown",
   "metadata": {},
   "source": [
    "13) Take input of age of 3 people by user and determine oldest and youngest among them."
   ]
  },
  {
   "cell_type": "code",
   "execution_count": 23,
   "metadata": {},
   "outputs": [
    {
     "name": "stdout",
     "output_type": "stream",
     "text": [
      "Enter the age of the first person:  56\n",
      "Enter the age of the second person:  64\n",
      "Enter the age of the third person:  49\n"
     ]
    },
    {
     "name": "stdout",
     "output_type": "stream",
     "text": [
      "The oldest person is per2\n",
      "The youngest person is per3\n"
     ]
    }
   ],
   "source": [
    "per1 = int(input(\"Enter the age of the first person: \"))\n",
    "per2 = int(input(\"Enter the age of the second person: \"))\n",
    "per3 = int(input(\"Enter the age of the third person: \"))\n",
    "\n",
    "oldest = max(per1, per2, per3)\n",
    "youngest = min(per1, per2, per3)\n",
    "\n",
    "if oldest == per1:\n",
    "    oldest = \"per1\"\n",
    "elif oldest == per2:\n",
    "    oldest = \"per2\"\n",
    "else: \n",
    "    oldest = \"per3\"\n",
    "\n",
    "if youngest == per1: \n",
    "    youngest = \"per1\"\n",
    "elif youngest == per2:\n",
    "    youngest = \"per2\"\n",
    "else:\n",
    "    youngest = \"per3\"\n",
    "    \n",
    "\n",
    "print(\"The oldest person is\", oldest)\n",
    "print(\"The youngest person is\", youngest)"
   ]
  }
 ],
 "metadata": {
  "kernelspec": {
   "display_name": "Python [conda env:base] *",
   "language": "python",
   "name": "conda-base-py"
  },
  "language_info": {
   "codemirror_mode": {
    "name": "ipython",
    "version": 3
   },
   "file_extension": ".py",
   "mimetype": "text/x-python",
   "name": "python",
   "nbconvert_exporter": "python",
   "pygments_lexer": "ipython3",
   "version": "3.13.5"
  }
 },
 "nbformat": 4,
 "nbformat_minor": 4
}
