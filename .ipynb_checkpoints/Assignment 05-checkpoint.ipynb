{
 "cells": [
  {
   "cell_type": "markdown",
   "id": "dad28d27-9af7-4bb4-9ae5-8677a53f0af0",
   "metadata": {},
   "source": [
    "# Looping Structures"
   ]
  },
  {
   "cell_type": "markdown",
   "id": "a821fdfe-e4bb-4a5e-9c70-f263d2a5444b",
   "metadata": {},
   "source": [
    "#### 1. Write a Python program to print the numbers from 1 to 10 using a for loop. "
   ]
  },
  {
   "cell_type": "code",
   "execution_count": null,
   "id": "6ad2db35-7d8e-45d4-a922-ad303861a1d8",
   "metadata": {},
   "outputs": [],
   "source": []
  },
  {
   "cell_type": "markdown",
   "id": "ab9f37ee-4977-4922-b032-56e25f8226ba",
   "metadata": {},
   "source": [
    "#### 1. Write a Python program to print the numbers from 1 to 10 using a for loop. "
   ]
  },
  {
   "cell_type": "code",
   "execution_count": null,
   "id": "19cc9de1-8542-409f-9c61-f8f5cc7169ba",
   "metadata": {},
   "outputs": [],
   "source": []
  },
  {
   "cell_type": "markdown",
   "id": "2416a70d-1e14-4292-9543-a0f3c4db99c0",
   "metadata": {},
   "source": [
    "#### 2. Write a Python program to print the numbers from 20 to 1 using a while loop.\n"
   ]
  },
  {
   "cell_type": "code",
   "execution_count": null,
   "id": "0db4349d-b282-48bc-a02f-f46ed4d38e14",
   "metadata": {},
   "outputs": [],
   "source": []
  },
  {
   "cell_type": "markdown",
   "id": "eee77f6a-d5c2-4385-8bac-4e576dcc0a02",
   "metadata": {},
   "source": [
    "#### 3. Write a program to print even numbers from 1 to 10. "
   ]
  },
  {
   "cell_type": "code",
   "execution_count": null,
   "id": "b742f93c-54ca-4782-96d5-04997dc953b0",
   "metadata": {},
   "outputs": [],
   "source": []
  },
  {
   "cell_type": "markdown",
   "id": "2f5c9eac-e8ac-4d70-a952-54dd4d0a6af3",
   "metadata": {},
   "source": [
    "#### 4. Write a program that prompts the user to enter a number n and prints all the numbers from 1 to n."
   ]
  },
  {
   "cell_type": "code",
   "execution_count": null,
   "id": "f0709a21-96e1-49c4-820a-0bcd94933319",
   "metadata": {},
   "outputs": [],
   "source": []
  },
  {
   "cell_type": "markdown",
   "id": "32cd34c7-34d0-486b-bbf7-3e5d5fbc1265",
   "metadata": {},
   "source": [
    "#### 5. Write a program that prompts the user to enter a number n, and then prints all the odd numbers between 1 and n. "
   ]
  },
  {
   "cell_type": "code",
   "execution_count": null,
   "id": "10dcc36c-8d4d-4973-865f-be4ef299c20c",
   "metadata": {},
   "outputs": [],
   "source": []
  },
  {
   "cell_type": "markdown",
   "id": "af31e7f2-7a16-458a-a451-9ff297ca475b",
   "metadata": {},
   "source": [
    "#### 6. Write a program that prints 'Happy Birthday!' five times on screen. "
   ]
  },
  {
   "cell_type": "code",
   "execution_count": null,
   "id": "185429d2-c73f-42f6-a979-ee5c610e8fe1",
   "metadata": {},
   "outputs": [],
   "source": []
  },
  {
   "cell_type": "markdown",
   "id": "3e756fe3-4f8b-440a-aad2-6008fa529416",
   "metadata": {},
   "source": [
    "####  7. Write a program that takes a number n as input from the user and generates the first n terms of the series formed by squaring the natural numbers. "
   ]
  },
  {
   "cell_type": "markdown",
   "id": "bb5eac38-03ef-453e-b30c-6fe9c95487b9",
   "metadata": {},
   "source": [
    "- Sample output\n",
    "- Enter a number: 6\n",
    "- The first 6 terms of the series are:\n",
    "- 1 4 9 16 25 36 "
   ]
  },
  {
   "cell_type": "code",
   "execution_count": null,
   "id": "2dc5af4e-c0dc-4705-950c-cbef2153bdd4",
   "metadata": {},
   "outputs": [],
   "source": []
  },
  {
   "cell_type": "markdown",
   "id": "0c506dad-acc9-40b9-93a9-6d7ae51e0f58",
   "metadata": {},
   "source": [
    "#### 8. Write a program that prompts the user to input a number and prints its multiplication table. \n"
   ]
  },
  {
   "cell_type": "code",
   "execution_count": null,
   "id": "dad82356-9b18-44ff-80e6-1ded15af7a1e",
   "metadata": {},
   "outputs": [],
   "source": []
  },
  {
   "cell_type": "markdown",
   "id": "a777f44d-59fb-4704-8696-749a002ef54b",
   "metadata": {},
   "source": [
    "#### 9. Write a Python program to print the first 8 terms of an arithmetic progression starting with 3 and having a common difference of 4.\n",
    "\n",
    "#### The program should output the following sequence:\n",
    "#### 3 7 11 15 19 23 27 31 \n"
   ]
  },
  {
   "cell_type": "code",
   "execution_count": null,
   "id": "6cd0be15-6ab1-4d78-90ca-4e7f867fd818",
   "metadata": {},
   "outputs": [],
   "source": []
  },
  {
   "cell_type": "markdown",
   "id": "73688ee5-a309-459d-8371-857241f96d9e",
   "metadata": {},
   "source": [
    "#### 10. Write a Python program to print the first 6 terms of a geometric sequence starting with 2 and having a common ratio of 3.\n",
    "#### The program should output the following sequence:\n",
    "#### 2 6 18 54 162 486 "
   ]
  },
  {
   "cell_type": "code",
   "execution_count": null,
   "id": "78180f2c-450e-4a54-9ada-3f14410d1a2c",
   "metadata": {},
   "outputs": [],
   "source": []
  },
  {
   "cell_type": "markdown",
   "id": "e08d23e6-f9e4-4439-9286-344891933c52",
   "metadata": {},
   "source": [
    "#### 11. Write a program that asks the user for a positive integer value. The program should  calculate the sum of all the integers from 1 up to the number entered. For example, if the user enters 20, the loop will find the sum of 1, 2, 3, 4, ... 20. "
   ]
  },
  {
   "cell_type": "code",
   "execution_count": null,
   "id": "3ce659dc-9254-4312-997f-6baa287094c2",
   "metadata": {},
   "outputs": [],
   "source": []
  },
  {
   "cell_type": "markdown",
   "id": "fb9c5c08-721a-4288-8d08-7443823ae359",
   "metadata": {},
   "source": [
    "#### 12. write a program that takes a positive integer N as input and calculates the sum of the reciprocals of all numbers from 1 up to N. The program should display the final sum. "
   ]
  },
  {
   "cell_type": "markdown",
   "id": "be91dac4-0de1-4797-a33a-7355e54f5fa5",
   "metadata": {},
   "source": [
    "##### Output of the program should be like:\n",
    "##### Enter a positive integer: 5\n",
    "##### The sum of reciprocals from 1 to 5 is: 2.28 "
   ]
  },
  {
   "cell_type": "code",
   "execution_count": null,
   "id": "42dd0752-f0bf-4eb2-9c92-1af24d350657",
   "metadata": {},
   "outputs": [],
   "source": []
  },
  {
   "cell_type": "markdown",
   "id": "8818b7a9-dce9-43ae-9c9c-c82d0befaad7",
   "metadata": {},
   "source": [
    "#### 13. Write a program that prompts the user to enter a number and repeats this process 5 times. The program should accumulate the numbers entered and then display the final running total. \n"
   ]
  },
  {
   "cell_type": "markdown",
   "id": "e634420f-ee5d-43c5-9b2f-cde7684b83b1",
   "metadata": {},
   "source": [
    "##### Sample Output:\n",
    "##### Enter a number: 10\n",
    "##### Enter a number: 15\n",
    "##### Enter a number: 35\n",
    "##### Enter a number: 40\n",
    "##### Enter a number: 50\n",
    "##### The final running total is: 150 \n"
   ]
  },
  {
   "cell_type": "code",
   "execution_count": null,
   "id": "c50a78ce-d7ba-4a14-a8b8-7d7c3a191f68",
   "metadata": {},
   "outputs": [],
   "source": []
  },
  {
   "cell_type": "markdown",
   "id": "db85df60-bd31-416e-b779-f94fe80ad032",
   "metadata": {},
   "source": [
    "#### 14. Write a program that prompts the user to enter a positive integer and calculates its factorial. The factorial of a positive integer 'n' is denoted as 'n!' and is calculated by multiplying all the integers from 1 to 'n' together. For example, the factorial of 5 (denoted as 5!) is calculated as 1 x 2 x 3 x 4 x 5. "
   ]
  },
  {
   "cell_type": "markdown",
   "id": "98f36f36-aa0d-4494-9bed-0c48ed262646",
   "metadata": {},
   "source": [
    "##### The program should display the factorial value if the input is a positive number, or display a message stating that the factorial does not exist for negative numbers. Additionally, for an input of zero, the program should output that the factorial of 0 is 1. "
   ]
  },
  {
   "cell_type": "code",
   "execution_count": null,
   "id": "4e52a7d8-ed99-4a33-8e4d-443d17fff3f2",
   "metadata": {},
   "outputs": [],
   "source": []
  },
  {
   "cell_type": "markdown",
   "id": "1403241b-d951-4224-b424-01c07aa81dc8",
   "metadata": {},
   "source": [
    "#### 15. Write a Python program that prompts the user to enter a base number and an exponent, and then calculates the power of the base to the exponent. The program should not use the exponentiation operator (**) or the math.pow() function. The program should handle both positive and negative exponents. "
   ]
  },
  {
   "cell_type": "code",
   "execution_count": null,
   "id": "80011c08-d5cb-4599-a484-7dbc88fc963f",
   "metadata": {},
   "outputs": [],
   "source": []
  },
  {
   "cell_type": "code",
   "execution_count": null,
   "id": "c2e6a1fc-8559-4552-9be7-ebbf2b3d3bd2",
   "metadata": {},
   "outputs": [],
   "source": []
  },
  {
   "cell_type": "code",
   "execution_count": null,
   "id": "12a761d2-f29c-4272-80de-13749daa26c5",
   "metadata": {},
   "outputs": [],
   "source": []
  },
  {
   "cell_type": "code",
   "execution_count": null,
   "id": "c4ed8e21-f12e-49df-8de4-f528d856d957",
   "metadata": {},
   "outputs": [],
   "source": []
  }
 ],
 "metadata": {
  "kernelspec": {
   "display_name": "Python [conda env:base] *",
   "language": "python",
   "name": "conda-base-py"
  },
  "language_info": {
   "codemirror_mode": {
    "name": "ipython",
    "version": 3
   },
   "file_extension": ".py",
   "mimetype": "text/x-python",
   "name": "python",
   "nbconvert_exporter": "python",
   "pygments_lexer": "ipython3",
   "version": "3.13.5"
  }
 },
 "nbformat": 4,
 "nbformat_minor": 5
}
