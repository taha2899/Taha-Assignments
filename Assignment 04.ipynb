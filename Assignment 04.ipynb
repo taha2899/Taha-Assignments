{
 "cells": [
  {
   "cell_type": "markdown",
   "id": "ee084f25-c198-4295-8ddb-694d2d36debe",
   "metadata": {},
   "source": [
    "# List Assignment\n"
   ]
  },
  {
   "cell_type": "markdown",
   "id": "a31e0375-0ae2-421e-a1c2-4fcb14193d06",
   "metadata": {},
   "source": [
    "#### 1. Write a program that accepts a list from user and print the alternate element of list. \n"
   ]
  },
  {
   "cell_type": "code",
   "execution_count": null,
   "id": "c9aea4d0-94b4-4f60-8154-f8ba6e06fbf3",
   "metadata": {},
   "outputs": [],
   "source": []
  },
  {
   "cell_type": "markdown",
   "id": "98ea8c1b-4c08-46df-a957-9cd76675ac7e",
   "metadata": {},
   "source": [
    "#### 2. Write a program that accepts a list from user. Your program should reverse the content of list and display it. Do not use reverse() method. "
   ]
  },
  {
   "cell_type": "code",
   "execution_count": null,
   "id": "219575bf-43cd-4add-b352-1f1a4ba0874e",
   "metadata": {},
   "outputs": [],
   "source": []
  },
  {
   "cell_type": "markdown",
   "id": "fdc7830b-2842-4406-9e6a-942fb4f841ef",
   "metadata": {},
   "source": [
    "####  3. Find and display the largest number of a list without using built-in function max(). Your program should ask the user to input values in list from keyboard. \n"
   ]
  },
  {
   "cell_type": "code",
   "execution_count": null,
   "id": "19530804-f38d-4c96-ac48-303530174e01",
   "metadata": {},
   "outputs": [],
   "source": []
  },
  {
   "cell_type": "markdown",
   "id": "cdbc01c0-f289-4e49-946c-0847e82a19ca",
   "metadata": {},
   "source": [
    "#### 4. Write a program that rotates the element of a list so that the element at the first index moves to the second index, the element in the second index moves to the third index, etc., and the element in the last index moves to the first index. "
   ]
  },
  {
   "cell_type": "code",
   "execution_count": null,
   "id": "4b748b5b-16f5-495b-b861-bd243ecd2818",
   "metadata": {},
   "outputs": [],
   "source": []
  },
  {
   "cell_type": "markdown",
   "id": "edc21a45-2e13-4e44-a44d-11fe6d048029",
   "metadata": {},
   "source": [
    "#### 5. Write a program that input a string and ask user to delete a given word from a string. \n"
   ]
  },
  {
   "cell_type": "code",
   "execution_count": null,
   "id": "6cc4b20d-6692-456c-a0eb-e64ea34e5c5b",
   "metadata": {},
   "outputs": [],
   "source": []
  },
  {
   "cell_type": "markdown",
   "id": "09d5a69d-02e8-407a-97ff-99e593e24f0b",
   "metadata": {},
   "source": [
    "#### 6. Write a program that reads a string from the user containing a date in the form mm/dd/yyyy. It should print the date in the form March 12, 2021. \n"
   ]
  },
  {
   "cell_type": "code",
   "execution_count": null,
   "id": "9f20a7e6-73fb-4d7d-b0ec-d6f7b62c1998",
   "metadata": {},
   "outputs": [],
   "source": []
  },
  {
   "cell_type": "markdown",
   "id": "c0add208-1390-45af-92e0-1621c6513ae7",
   "metadata": {},
   "source": [
    "####  7. Write a program with a function that accepts a string from keyboard and create a new string after converting character of each word capitalized. For instance, if the sentence is \"stop and smell the roses.\" the output should be \"Stop And Smell The Roses\" \n"
   ]
  },
  {
   "cell_type": "code",
   "execution_count": null,
   "id": "a8e9fb55-526f-4a38-9ffd-6a4744035505",
   "metadata": {},
   "outputs": [],
   "source": []
  },
  {
   "cell_type": "markdown",
   "id": "dc4a2709-c9bf-473d-b028-de8c038e53ad",
   "metadata": {},
   "source": [
    "#### 8. Find the sum of each row of matrix of size m x n. For example for the following matrix output will be like this :"
   ]
  },
  {
   "cell_type": "markdown",
   "id": "5c376ab9-f2b1-4c5f-8f27-87318b704907",
   "metadata": {},
   "source": [
    "#### 2 11 7 12\n",
    "#### 5 2 9 15\n",
    "#### 8 3 10 42"
   ]
  },
  {
   "cell_type": "markdown",
   "id": "81974919-8fca-4071-89c4-b9d3ba246191",
   "metadata": {},
   "source": [
    "- Sum of row 1 = 32\n",
    "- Sum of row 2 = 31\n",
    "- Sum of row 3 = 63 \n"
   ]
  },
  {
   "cell_type": "markdown",
   "id": "0be339fd-9864-4b3e-96cf-5280f093ebfd",
   "metadata": {},
   "source": [
    "#### 9. Write a program to add two matrices of size n x m. "
   ]
  },
  {
   "cell_type": "code",
   "execution_count": null,
   "id": "e45615ba-4ea3-4006-878c-f798828e0038",
   "metadata": {},
   "outputs": [],
   "source": []
  },
  {
   "cell_type": "markdown",
   "id": "648b01d0-94d1-4cda-a3e5-8633f06c8fc5",
   "metadata": {},
   "source": [
    "#### 10. Write a program to multiply two matrices"
   ]
  },
  {
   "cell_type": "code",
   "execution_count": null,
   "id": "6c960de8-13a9-4af2-bef9-af023f768d94",
   "metadata": {},
   "outputs": [],
   "source": []
  }
 ],
 "metadata": {
  "kernelspec": {
   "display_name": "Python [conda env:base] *",
   "language": "python",
   "name": "conda-base-py"
  },
  "language_info": {
   "codemirror_mode": {
    "name": "ipython",
    "version": 3
   },
   "file_extension": ".py",
   "mimetype": "text/x-python",
   "name": "python",
   "nbconvert_exporter": "python",
   "pygments_lexer": "ipython3",
   "version": "3.13.5"
  }
 },
 "nbformat": 4,
 "nbformat_minor": 5
}
