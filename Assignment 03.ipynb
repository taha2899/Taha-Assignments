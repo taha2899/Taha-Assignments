{
 "cells": [
  {
   "cell_type": "markdown",
   "id": "dbef7ea8-5efa-4c2d-94aa-66a4e75438d1",
   "metadata": {},
   "source": [
    "#      Strings Assignments "
   ]
  },
  {
   "cell_type": "markdown",
   "id": "bd96a1cb-cbe0-4d16-892b-e92b600aba24",
   "metadata": {},
   "source": [
    "#### 1. Write a program that accepts a string from user. Your program should count and display number of vowels in that string. \n"
   ]
  },
  {
   "cell_type": "code",
   "execution_count": null,
   "id": "b32e9439-9e30-4486-a2ec-e315e52557a7",
   "metadata": {},
   "outputs": [
    {
     "name": "stdout",
     "output_type": "stream",
     "text": [
      "enter a string usman\n"
     ]
    },
    {
     "name": "stdout",
     "output_type": "stream",
     "text": [
      "2\n"
     ]
    }
   ],
   "source": [
    "Str = input(\"enter a string\")\n",
    "vowels = \"aeiouAEIOU\"\n",
    "count = 0\n",
    "for l in Str:\n",
    "    if l in vowels:\n",
    "        count += 1\n",
    "print(count)"
   ]
  },
  {
   "cell_type": "markdown",
   "id": "ec62f5fd-4871-467b-83e7-ecd59afd04ef",
   "metadata": {},
   "source": [
    "####  2. Write a program that reads a string from keyboard and display:"
   ]
  },
  {
   "cell_type": "markdown",
   "id": "8de88502-25fb-45a0-b018-3ac42e864739",
   "metadata": {},
   "source": [
    "- The number of uppercase letters in the string\n",
    "- The number of lowercase letters in the string\n",
    "- The number of digits in the string\n",
    "- The number of whitespace characters in the string"
   ]
  },
  {
   "cell_type": "code",
   "execution_count": 31,
   "id": "6bd848ee-406f-4727-82b0-836c7bb1e082",
   "metadata": {},
   "outputs": [
    {
     "name": "stdout",
     "output_type": "stream",
     "text": [
      "Enter a string: TAHA iqbal 122\n"
     ]
    },
    {
     "name": "stdout",
     "output_type": "stream",
     "text": [
      "Upper Case Count: 4\n",
      "Lower Case Count: 5\n",
      "Digits Count: 3\n",
      "Whitespace Count: 2\n"
     ]
    }
   ],
   "source": [
    "Str = input(\"Enter a string:\")\n",
    "uc_count = 0\n",
    "lc_count = 0\n",
    "d_count = 0\n",
    "ws_count = 0\n",
    "for l in Str:\n",
    "    if l.isupper():\n",
    "        uc_count += 1 \n",
    "    elif l.islower():\n",
    "        lc_count += 1 \n",
    "    elif l.isdigit():\n",
    "        d_count += 1\n",
    "    elif l.isspace:\n",
    "        ws_count += 1\n",
    "print(\"Upper Case Count:\", uc_count)\n",
    "print(\"Lower Case Count:\", lc_count)\n",
    "print(\"Digits Count:\", d_count)\n",
    "print(\"Whitespace Count:\", ws_count)"
   ]
  },
  {
   "cell_type": "markdown",
   "id": "fa04efa9-6e89-45d3-bcd8-be2181854cca",
   "metadata": {},
   "source": [
    "#### 3. Write a Python program that accepts a string from user. Your program should create and display a new string where the first and last characters have been exchanged. "
   ]
  },
  {
   "cell_type": "markdown",
   "id": "27386674-1f0a-46d1-a280-53d88932eb31",
   "metadata": {},
   "source": [
    "- For example if the user enters the string 'HELLO' then new string would be 'OELLH' "
   ]
  },
  {
   "cell_type": "code",
   "execution_count": 35,
   "id": "d75f106b-5808-4b48-9a59-44a4953a30f9",
   "metadata": {},
   "outputs": [
    {
     "name": "stdout",
     "output_type": "stream",
     "text": [
      "Enter A String: owais\n"
     ]
    },
    {
     "name": "stdout",
     "output_type": "stream",
     "text": [
      "New String After Exchanging First AND Last Letters: swaio\n"
     ]
    }
   ],
   "source": [
    "str = input(\"Enter A String:\")\n",
    "\n",
    "if len(str) > 1:\n",
    "    new_str = str[-1] + str[1: -1 ] + str[0]\n",
    "else:\n",
    "    new_str = str\n",
    "print(\"New String After Exchanging First AND Last Letters:\", new_str)"
   ]
  },
  {
   "cell_type": "markdown",
   "id": "da71eaeb-5637-4803-b697-a9065ef19f3c",
   "metadata": {},
   "source": [
    "####  4. Write a Python program that accepts a string from user. Your program should create a new string in reverse of first string and display it. "
   ]
  },
  {
   "cell_type": "markdown",
   "id": "53497d31-3f2c-4856-ac0b-2bcbd5e31e21",
   "metadata": {},
   "source": [
    "- For example if the user enters the string 'EXAM' then new string would be 'MAXE' "
   ]
  },
  {
   "cell_type": "code",
   "execution_count": 37,
   "id": "15d247ef-5726-4ce9-a9d8-4a0c0dc2fd6c",
   "metadata": {},
   "outputs": [
    {
     "name": "stdout",
     "output_type": "stream",
     "text": [
      "Enter A String: owais\n"
     ]
    },
    {
     "name": "stdout",
     "output_type": "stream",
     "text": [
      "New String After reversing: siawo\n"
     ]
    }
   ],
   "source": [
    "str = input(\"Enter A String:\")\n",
    "\n",
    "if len(str) > 1:\n",
    "    new_str = str[::-1]\n",
    "else:\n",
    "    new_str = str\n",
    "print(\"New String After reversing:\", new_str)"
   ]
  },
  {
   "cell_type": "markdown",
   "id": "d4b255ec-41dc-42c6-b58f-9166ee50b525",
   "metadata": {},
   "source": [
    "####  5. Write a Python program that accepts a string from user. Your program should create a new string by shifting one position to left. "
   ]
  },
  {
   "cell_type": "markdown",
   "id": "f8416801-9e91-4e9d-a1c4-4ca07ced8be1",
   "metadata": {},
   "source": [
    "- For example if the user enters the string 'examination 2021' then new string would be 'xamination\n",
    "2021e' \n"
   ]
  },
  {
   "cell_type": "code",
   "execution_count": 38,
   "id": "543801cf-5b92-47d9-bc8b-da2dee2116ae",
   "metadata": {},
   "outputs": [
    {
     "name": "stdout",
     "output_type": "stream",
     "text": [
      "Enter A String: taha iqbal\n"
     ]
    },
    {
     "name": "stdout",
     "output_type": "stream",
     "text": [
      "New String After Shifting One Position To Left: aha iqbalt\n"
     ]
    }
   ],
   "source": [
    "str = input(\"Enter A String:\")\n",
    "\n",
    "if len(str) > 1:\n",
    "    new_str = str[1:] + str[0]\n",
    "else:\n",
    "    new_str = str\n",
    "print(\"New String After Shifting One Position To Left:\", new_str)"
   ]
  },
  {
   "cell_type": "markdown",
   "id": "adf634ac-9fa8-456c-855d-745217d447c3",
   "metadata": {},
   "source": [
    "####  6. Write a program that asks the user to input his name and print its initials. Assuming that the user always types first name, middle name and last name and does not include any unnecessary spaces. "
   ]
  },
  {
   "cell_type": "markdown",
   "id": "a2658022-45cb-49d1-9e66-95d0b70fa951",
   "metadata": {},
   "source": [
    "- For example, if the user enters Ajay Kumar Garg the program should display A. K. G.\n",
    "Note:Don't use split() method \n"
   ]
  },
  {
   "cell_type": "code",
   "execution_count": 30,
   "id": "d1942b4d-a0c2-428b-b11e-6c5ad075b7fb",
   "metadata": {},
   "outputs": [
    {
     "name": "stdin",
     "output_type": "stream",
     "text": [
      "Enter Your Full name as (First Middle Last): taha muhammad iqbal\n"
     ]
    },
    {
     "name": "stdout",
     "output_type": "stream",
     "text": [
      "Initials: T. M. I. \n"
     ]
    }
   ],
   "source": [
    "name = input(\"Enter Your Full name as (First Middle Last):\")\n",
    "\n",
    "initials = name[0].upper() +\". \"\n",
    "\n",
    "first_space = name.find(\" \")\n",
    "initials += name[first_space + 1].upper() + \". \"\n",
    "\n",
    "second_space = name.find(\" \", first_space +1)\n",
    "initials += name[second_space +1].upper() + \". \"\n",
    "\n",
    "print(\"Initials:\", initials)"
   ]
  },
  {
   "cell_type": "markdown",
   "id": "c3ca10d5-bea1-4801-b7e0-bf5735f16410",
   "metadata": {},
   "source": [
    "#### 7. A palindrome is a string that reads the same backward as forward. For example, the words dad, madam and radar are all palindromes. Write a programs that determines whether the string is a palindrome. \n"
   ]
  },
  {
   "cell_type": "markdown",
   "id": "7c7abecd-1927-4454-8092-9c8e7d1536d6",
   "metadata": {},
   "source": [
    "- Note: do not use reverse() method"
   ]
  },
  {
   "cell_type": "code",
   "execution_count": 3,
   "id": "de7d5d06-28fb-4c3d-84dd-91e62a199a33",
   "metadata": {},
   "outputs": [
    {
     "name": "stdin",
     "output_type": "stream",
     "text": [
      "Enter Your Name OR Any Word non\n"
     ]
    },
    {
     "name": "stdout",
     "output_type": "stream",
     "text": [
      "This Name Or Word Is Palindrome\n"
     ]
    }
   ],
   "source": [
    "name = input(\"Enter Your Name OR Any Word\")\n",
    "\n",
    "name = name.lower()\n",
    "\n",
    "if name == name[::-1]:\n",
    "    print(\"This Name Or Word Is Palindrome\")\n",
    "else:\n",
    "    print(\"This Name Or Word Is Not Palindrome\")"
   ]
  },
  {
   "cell_type": "markdown",
   "id": "8be3905d-1163-43fa-bb5f-de9dfd242f18",
   "metadata": {},
   "source": [
    "#### 8. Write a program that display following output:"
   ]
  },
  {
   "cell_type": "markdown",
   "id": "8bc1df99-243a-4244-9606-bf9fbc40b2bc",
   "metadata": {},
   "source": [
    "- SHIFT\n",
    "- HIFTS\n",
    "- IFTSH\n",
    "- FTSHI\n",
    "- TSHIF\n",
    "- SHIFT \n"
   ]
  },
  {
   "cell_type": "code",
   "execution_count": 12,
   "id": "15d8cda4-8d45-42cc-aafe-80df97f744f1",
   "metadata": {},
   "outputs": [
    {
     "name": "stdin",
     "output_type": "stream",
     "text": [
      "Enter A Text taha\n"
     ]
    },
    {
     "name": "stdout",
     "output_type": "stream",
     "text": [
      "taha\n",
      "ahat\n",
      "hata\n",
      "atah\n",
      "taha\n"
     ]
    }
   ],
   "source": [
    "text = input(\"Enter A Text\")\n",
    "\n",
    "for i in range(len(text) +1):\n",
    "    print(text)\n",
    "    text = text[1:] + text[0]"
   ]
  },
  {
   "cell_type": "markdown",
   "id": "ce717419-ba9c-4b99-a970-44098a5c875f",
   "metadata": {},
   "source": [
    "#### 9. Write a program in python that accepts a string to setup a passwords. Your entered password must meet the following requirements: "
   ]
  },
  {
   "cell_type": "markdown",
   "id": "b3010edf-ab25-4b06-ae98-2fcaae126b4d",
   "metadata": {},
   "source": [
    "- The password must be at least eight characters long.\n",
    "- It must contain at least one uppercase letter.\n",
    "- It must contain at least one lowercase letter.\n",
    "- It must contain at least one numeric digit.\n",
    "- Your program should should perform this validation. "
   ]
  },
  {
   "cell_type": "code",
   "execution_count": 26,
   "id": "910f4028-0fca-431e-afc2-b405a5f67333",
   "metadata": {},
   "outputs": [
    {
     "name": "stdin",
     "output_type": "stream",
     "text": [
      "Enter Your Password: TAha1234\n"
     ]
    },
    {
     "name": "stdout",
     "output_type": "stream",
     "text": [
      "password is valid.\n"
     ]
    }
   ],
   "source": [
    "password = input(\"Enter Your Password:\")\n",
    "\n",
    "if len(password) >= 8:\n",
    "    has_upper = False\n",
    "    has_lower = False\n",
    "    has_digit = False\n",
    "\n",
    "    for char in password:\n",
    "        if char.isupper():\n",
    "           has_upper = True\n",
    "        elif char.islower():\n",
    "           has_lower = True\n",
    "        elif char.isdigit():\n",
    "           has_digit = True\n",
    "   \n",
    "    if has_upper and has_lower and has_digit:\n",
    "        print(\"password is valid.\")\n",
    "    else:\n",
    "        print(\"Password Must Contain At Least One Uppercase Letter One Lowercase Letter And One Digit.\")\n",
    "\n",
    "else:\n",
    "    print(\"Password Must Be At Least 8 Characters Long.\")"
   ]
  },
  {
   "cell_type": "code",
   "execution_count": null,
   "id": "66dbc590-2329-4d58-95ab-42a4cd5ea856",
   "metadata": {},
   "outputs": [],
   "source": []
  }
 ],
 "metadata": {
  "kernelspec": {
   "display_name": "Python [conda env:base] *",
   "language": "python",
   "name": "conda-base-py"
  },
  "language_info": {
   "codemirror_mode": {
    "name": "ipython",
    "version": 3
   },
   "file_extension": ".py",
   "mimetype": "text/x-python",
   "name": "python",
   "nbconvert_exporter": "python",
   "pygments_lexer": "ipython3",
   "version": "3.13.5"
  }
 },
 "nbformat": 4,
 "nbformat_minor": 5
}
